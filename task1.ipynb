{
 "cells": [
  {
   "cell_type": "code",
   "execution_count": 34,
   "metadata": {},
   "outputs": [],
   "source": [
    "input_string_1 = '''5\n",
    "alla 4 100\n",
    "gena 6 1000\n",
    "gosha 2 90\n",
    "rita 2 90\n",
    "timofey 4 80'''\n",
    "\n",
    "\n",
    "input_string_2 = '''5\n",
    "alla 0 0\n",
    "gena 0 0\n",
    "gosha 0 0\n",
    "rita 0 0\n",
    "timofey 0 0'''"
   ]
  },
  {
   "cell_type": "code",
   "execution_count": 1,
   "metadata": {},
   "outputs": [],
   "source": [
    "def is_bigger(a, b):\n",
    "    return a[1] > b[1] \\\n",
    "        or (a[1] == b[1] and a[2] < b[2]) \\\n",
    "        or (a[1] == b[1] and a[2] == b[2] and a[0] < b[0])\n",
    "        \n",
    "\n",
    "def partition(arr, left, right):\n",
    "    pivot = arr[right]\n",
    "    l = left\n",
    "    for i in range(left, right):\n",
    "        if is_bigger(arr[i] , pivot): \n",
    "            arr[l], arr[i] = arr[i], arr[l]\n",
    "            l += 1\n",
    "    arr[l], arr[right] = arr[right], arr[l]\n",
    "    return l\n",
    "\n",
    "\n",
    "def quicksort(arr, left, right):\n",
    "    if left < right:\n",
    "        pivot = partition(arr, left, right)\n",
    "        quicksort(arr, left, pivot - 1)\n",
    "        quicksort(arr, pivot + 1, right)\n",
    "\n",
    "\n",
    "def solution(input_string):\n",
    "    n = int(input_string.strip().split('\\n')[0])\n",
    "    arr = [line.split() for line in input_string.strip().split('\\n')[1:]]\n",
    "\n",
    "    for i in range(n):\n",
    "        arr[i][1], arr[i][2] = int(arr[i][1]), int(arr[i][2])\n",
    "        \n",
    "    \n",
    "    quicksort(arr, 0, n-1)\n",
    "    for i in range(n):\n",
    "        print(arr[i][0])\n"
   ]
  },
  {
   "cell_type": "code",
   "execution_count": 38,
   "metadata": {},
   "outputs": [
    {
     "name": "stdout",
     "output_type": "stream",
     "text": [
      "gena\n",
      "timofey\n",
      "alla\n",
      "gosha\n",
      "rita\n"
     ]
    }
   ],
   "source": [
    "solution(input_string_1)\n"
   ]
  },
  {
   "cell_type": "code",
   "execution_count": 39,
   "metadata": {},
   "outputs": [
    {
     "name": "stdout",
     "output_type": "stream",
     "text": [
      "alla\n",
      "gena\n",
      "gosha\n",
      "rita\n",
      "timofey\n"
     ]
    }
   ],
   "source": [
    "solution(input_string_2)\n"
   ]
  },
  {
   "cell_type": "code",
   "execution_count": null,
   "metadata": {},
   "outputs": [],
   "source": []
  }
 ],
 "metadata": {
  "kernelspec": {
   "display_name": "computer_vision",
   "language": "python",
   "name": "python3"
  },
  "language_info": {
   "codemirror_mode": {
    "name": "ipython",
    "version": 3
   },
   "file_extension": ".py",
   "mimetype": "text/x-python",
   "name": "python",
   "nbconvert_exporter": "python",
   "pygments_lexer": "ipython3",
   "version": "3.11.4"
  }
 },
 "nbformat": 4,
 "nbformat_minor": 2
}
